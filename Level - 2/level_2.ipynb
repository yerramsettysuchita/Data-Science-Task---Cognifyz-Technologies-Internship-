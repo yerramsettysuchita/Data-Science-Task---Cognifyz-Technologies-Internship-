{
 "cells": [
  {
   "cell_type": "markdown",
   "metadata": {},
   "source": [
    "# Task-1: Table Booking and Online Booking"
   ]
  },
  {
   "cell_type": "code",
   "execution_count": 1,
   "metadata": {},
   "outputs": [],
   "source": [
    "import pandas as pd"
   ]
  },
  {
   "cell_type": "code",
   "execution_count": 2,
   "metadata": {},
   "outputs": [],
   "source": [
    "# Load the dataset\n",
    "file_path = r\"C:\\Users\\DELL\\OneDrive\\Desktop1\\Data Science Tasks - Cognifyz\\Level-2\\Dataset .csv\"\n",
    "data = pd.read_csv(file_path)"
   ]
  },
  {
   "cell_type": "code",
   "execution_count": 3,
   "metadata": {},
   "outputs": [],
   "source": [
    "# Calculate the percentage of restaurants that offer table booking and online delivery\n",
    "table_booking_percentage = data['Has Table booking'].value_counts(normalize=True) * 100\n",
    "online_delivery_percentage = data['Has Online delivery'].value_counts(normalize=True) * 100"
   ]
  },
  {
   "cell_type": "code",
   "execution_count": 4,
   "metadata": {},
   "outputs": [],
   "source": [
    "# Compare the average ratings of restaurants with and without table booking\n",
    "average_rating_table_booking = data.groupby('Has Table booking')['Aggregate rating'].mean()"
   ]
  },
  {
   "cell_type": "code",
   "execution_count": 5,
   "metadata": {},
   "outputs": [],
   "source": [
    "# Analyze the availability of online delivery among restaurants with different price ranges\n",
    "online_delivery_by_price_range = data.groupby('Price range')['Has Online delivery'].value_counts(normalize=True).unstack() * 100"
   ]
  },
  {
   "cell_type": "code",
   "execution_count": 6,
   "metadata": {},
   "outputs": [
    {
     "name": "stdout",
     "output_type": "stream",
     "text": [
      "Percentage of Restaurants Offering Table Booking:\n",
      " Has Table booking\n",
      "No     87.875615\n",
      "Yes    12.124385\n",
      "Name: proportion, dtype: float64\n",
      "\n",
      "Percentage of Restaurants Offering Online Delivery:\n",
      " Has Online delivery\n",
      "No     74.337766\n",
      "Yes    25.662234\n",
      "Name: proportion, dtype: float64\n",
      "\n",
      "Average Ratings by Table Booking Availability:\n",
      " Has Table booking\n",
      "No     2.559359\n",
      "Yes    3.441969\n",
      "Name: Aggregate rating, dtype: float64\n",
      "\n",
      "Online Delivery Availability by Price Range:\n",
      " Has Online delivery         No        Yes\n",
      "Price range                              \n",
      "1                    84.225923  15.774077\n",
      "2                    58.689367  41.310633\n",
      "3                    70.809659  29.190341\n",
      "4                    90.955631   9.044369\n"
     ]
    }
   ],
   "source": [
    "# Display results\n",
    "print(\"Percentage of Restaurants Offering Table Booking:\\n\", table_booking_percentage)\n",
    "print(\"\\nPercentage of Restaurants Offering Online Delivery:\\n\", online_delivery_percentage)\n",
    "print(\"\\nAverage Ratings by Table Booking Availability:\\n\", average_rating_table_booking)\n",
    "print(\"\\nOnline Delivery Availability by Price Range:\\n\", online_delivery_by_price_range)"
   ]
  },
  {
   "cell_type": "markdown",
   "metadata": {},
   "source": [
    "# Task-2: Price Range Analysis"
   ]
  },
  {
   "cell_type": "code",
   "execution_count": 11,
   "metadata": {},
   "outputs": [],
   "source": [
    "if 'data' in locals():\n",
    "    # Determine the most common price range among all the restaurants\n",
    "    most_common_price_range = data['Price range'].mode()[0]\n",
    "\n",
    "    # Calculate the average rating for each price range\n",
    "    average_rating_by_price_range = data.groupby('Price range')['Aggregate rating'].mean()\n",
    "\n",
    "    # Identify the color that represents the highest average rating among different price ranges\n",
    "    # First, find the price range with the highest average rating\n",
    "    highest_avg_rating_price_range = average_rating_by_price_range.idxmax()\n",
    "\n",
    "    # Find the rating color associated with the highest average rating price range\n",
    "    rating_color_for_highest_avg = data[data['Price range'] == highest_avg_rating_price_range]['Rating color'].mode()[0]\n"
   ]
  },
  {
   "cell_type": "code",
   "execution_count": 12,
   "metadata": {},
   "outputs": [
    {
     "name": "stdout",
     "output_type": "stream",
     "text": [
      "Most Common Price Range among Restaurants: 1\n",
      "\n",
      "Average Rating by Price Range:\n",
      " Price range\n",
      "1    1.999887\n",
      "2    2.941054\n",
      "3    3.683381\n",
      "4    3.817918\n",
      "Name: Aggregate rating, dtype: float64\n",
      "\n",
      "Rating Color Representing the Highest Average Rating Price Range: Yellow\n"
     ]
    }
   ],
   "source": [
    "# Display results\n",
    "print(\"Most Common Price Range among Restaurants:\", most_common_price_range)\n",
    "print(\"\\nAverage Rating by Price Range:\\n\", average_rating_by_price_range)\n",
    "print(\"\\nRating Color Representing the Highest Average Rating Price Range:\", rating_color_for_highest_avg)"
   ]
  },
  {
   "cell_type": "markdown",
   "metadata": {},
   "source": [
    "# Task-3: Feature Engineering"
   ]
  },
  {
   "cell_type": "code",
   "execution_count": 14,
   "metadata": {},
   "outputs": [
    {
     "name": "stdout",
     "output_type": "stream",
     "text": [
      "Sample Data with New Features:\n",
      "           Restaurant Name  Restaurant Name Length  \\\n",
      "0        Le Petit Souffle                      16   \n",
      "1        Izakaya Kikufuji                      16   \n",
      "2  Heat - Edsa Shangri-La                      22   \n",
      "3                    Ooma                       4   \n",
      "4             Sambo Kojin                      11   \n",
      "\n",
      "                                             Address  Address Length  \\\n",
      "0  Third Floor, Century City Mall, Kalayaan Avenu...              71   \n",
      "1  Little Tokyo, 2277 Chino Roces Avenue, Legaspi...              67   \n",
      "2  Edsa Shangri-La, 1 Garden Way, Ortigas, Mandal...              56   \n",
      "3  Third Floor, Mega Fashion Hall, SM Megamall, O...              70   \n",
      "4  Third Floor, Mega Atrium, SM Megamall, Ortigas...              64   \n",
      "\n",
      "   Has Table Booking  Has Online Delivery  \n",
      "0                  1                    0  \n",
      "1                  1                    0  \n",
      "2                  1                    0  \n",
      "3                  0                    0  \n",
      "4                  1                    0  \n"
     ]
    }
   ],
   "source": [
    "if 'data' in locals():\n",
    "    # Part 1: Extract additional features\n",
    "    # Calculate the length of the restaurant name\n",
    "    data['Restaurant Name Length'] = data['Restaurant Name'].apply(len)\n",
    "    \n",
    "    # Calculate the length of the address\n",
    "    data['Address Length'] = data['Address'].apply(len)\n",
    "    \n",
    "    # Part 2: Create new features by encoding categorical variables\n",
    "    # Encoding 'Has Table booking' as binary (1 for 'Yes', 0 for 'No')\n",
    "    data['Has Table Booking'] = data['Has Table booking'].apply(lambda x: 1 if x == 'Yes' else 0)\n",
    "    \n",
    "    # Encoding 'Has Online delivery' as binary (1 for 'Yes', 0 for 'No')\n",
    "    data['Has Online Delivery'] = data['Has Online delivery'].apply(lambda x: 1 if x == 'Yes' else 0)\n",
    "    \n",
    "    # Display the first few rows to verify the new features\n",
    "    print(\"Sample Data with New Features:\\n\", data[['Restaurant Name', 'Restaurant Name Length', \n",
    "                                                    'Address', 'Address Length', \n",
    "                                                    'Has Table Booking', 'Has Online Delivery']].head())\n",
    "else:\n",
    "    print(\"Dataset not loaded successfully. Please check the file path and try again.\")"
   ]
  }
 ],
 "metadata": {
  "kernelspec": {
   "display_name": "Python 3",
   "language": "python",
   "name": "python3"
  },
  "language_info": {
   "codemirror_mode": {
    "name": "ipython",
    "version": 3
   },
   "file_extension": ".py",
   "mimetype": "text/x-python",
   "name": "python",
   "nbconvert_exporter": "python",
   "pygments_lexer": "ipython3",
   "version": "3.12.5"
  }
 },
 "nbformat": 4,
 "nbformat_minor": 2
}
